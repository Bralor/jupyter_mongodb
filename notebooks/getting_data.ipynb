{
 "cells": [
  {
   "cell_type": "markdown",
   "id": "detected-tribute",
   "metadata": {},
   "source": [
    "### Getting data for the table\n",
    "\n",
    "---"
   ]
  },
  {
   "cell_type": "markdown",
   "id": "swiss-colorado",
   "metadata": {},
   "source": [
    "#### Installing dependencies"
   ]
  },
  {
   "cell_type": "code",
   "execution_count": null,
   "id": "promotional-earthquake",
   "metadata": {},
   "outputs": [],
   "source": [
    "# !pip install -r requiremets"
   ]
  }
 ],
 "metadata": {
  "kernelspec": {
   "display_name": "Python 3",
   "language": "python",
   "name": "python3"
  },
  "language_info": {
   "codemirror_mode": {
    "name": "ipython",
    "version": 3
   },
   "file_extension": ".py",
   "mimetype": "text/x-python",
   "name": "python",
   "nbconvert_exporter": "python",
   "pygments_lexer": "ipython3",
   "version": "3.8.6"
  }
 },
 "nbformat": 4,
 "nbformat_minor": 5
}
